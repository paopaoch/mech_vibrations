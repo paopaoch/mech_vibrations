{
 "cells": [
  {
   "cell_type": "code",
   "execution_count": 1,
   "id": "389f76ee",
   "metadata": {},
   "outputs": [],
   "source": [
    "import numpy as np"
   ]
  },
  {
   "cell_type": "code",
   "execution_count": 2,
   "id": "7ea8ab3c",
   "metadata": {},
   "outputs": [],
   "source": [
    "\n",
    "N=100  #numbers of cycles to iterate\n",
    "freq=100 #number of samples per cycle\n",
    "m=1.83 #mass per floor\n",
    "k=4200 \n",
    "\n",
    "def find_motion(l1,l2,l3,k1,k2,k3,omega): #input the frequency and perimeter, returns a resonence index(ust a index, higer means more resonance)\n",
    "    T=N*2*np.pi/omega\n",
    "    dt=2*np.pi/(omega*freq)\n",
    "    m1=l1*m\n",
    "    m2=l2*m\n",
    "    m3=l3*m\n",
    "    x1=[0,0]\n",
    "    x2=[0,0]\n",
    "    x3=[0,0]\n",
    "    t=np.arange(0,T,dt)\n",
    "    f=[]\n",
    "    for time in t:\n",
    "        f.append(np.sin(omega*time))\n",
    "    for i in range(len(t)):\n",
    "\n",
    "        if i>1:\n",
    "            ax1=k1*(x2[i-1]-x1[i-1])/m1\n",
    "\n",
    "            ax2=(k2*(x3[i-1]-x2[i-1])-k1*(x2[i-1]-x1[i-1]))/m2\n",
    "            ax3=(f[i-1]-k3*x3[i-1]-k2*(x3[i-1]-x2[i-1]))/m3\n",
    "\n",
    "            x1.append(2*x1[i-1]-x1[i-2]+ax1*dt**2)\n",
    "            x2.append(2*x2[i-1]-x2[i-2]+ax2*dt**2)\n",
    "            x3.append(2*x3[i-1]-x3[i-2]+ax3*dt**2)\n",
    "    return(max(x1)*k)\n"
   ]
  },
  {
   "cell_type": "code",
   "execution_count": 3,
   "id": "064f9436",
   "metadata": {
    "scrolled": false
   },
   "outputs": [],
   "source": [
    "def find_freq_iter(l1,l2,l3,k1,k2,k3,omega,d):# iterate from omega-d to omega+d, find the most suitable new omega\n",
    "    test_omega=np.linspace(omega-2*d,omega+2*d,num=13)\n",
    "\n",
    "    x=0\n",
    "\n",
    "    for o in test_omega:\n",
    "        if find_motion(l1,l2,l3,k1,k2,k3,o)>x:\n",
    "            x=find_motion(l1,l2,l3,k1,k2,k3,o)\n",
    "\n",
    "            o_max=o\n",
    "    return(o_max,d/3)"
   ]
  },
  {
   "cell_type": "code",
   "execution_count": 4,
   "id": "689a471d",
   "metadata": {},
   "outputs": [],
   "source": [
    "def find_freq(l1,l2,l3,k1,k2,k3):# find the resonence angular frequency\n",
    "    d=2\n",
    "    omega=20\n",
    "    for lasokoasdjbnfiows in range(9):\n",
    "        (omega,d)=find_freq_iter(l1,l2,l3,k1,k2,k3,omega,d)\n",
    "    omega1=omega\n",
    "    d=10\n",
    "    omega=50\n",
    "    for lasokoasdjbnfiows in range(9):\n",
    "        (omega,d)=find_freq_iter(l1,l2,l3,k1,k2,k3,omega,d)\n",
    "    omega2=omega\n",
    "    d=7.5\n",
    "    omega=80\n",
    "    for lasokoasdjbnfiows in range(9):\n",
    "        (omega,d)=find_freq_iter(l1,l2,l3,k1,k2,k3,omega,d)\n",
    "    omega3=omega\n",
    "    return(omega1,omega2,omega3)"
   ]
  },
  {
   "cell_type": "code",
   "execution_count": 5,
   "id": "2a1554cb",
   "metadata": {},
   "outputs": [
    {
     "name": "stdout",
     "output_type": "stream",
     "text": [
      "(21.32398516486308, 59.745465630239295, 86.34430727023319)\n",
      "0:00:37.198730\n"
     ]
    }
   ],
   "source": [
    "from datetime import datetime\n",
    "start=datetime.now()\n",
    "print(find_freq(1,1,1,k,k,k))\n",
    "print (datetime.now()-start)"
   ]
  },
  {
   "cell_type": "code",
   "execution_count": 6,
   "id": "19b00f78",
   "metadata": {},
   "outputs": [
    {
     "data": {
      "text/plain": [
       "3.3931833867192087"
      ]
     },
     "execution_count": 6,
     "metadata": {},
     "output_type": "execute_result"
    }
   ],
   "source": [
    "import math\n",
    "21.32/(2*math.pi)"
   ]
  },
  {
   "cell_type": "code",
   "execution_count": 7,
   "id": "07befc2f",
   "metadata": {},
   "outputs": [
    {
     "data": {
      "text/plain": [
       "9.507916300309828"
      ]
     },
     "execution_count": 7,
     "metadata": {},
     "output_type": "execute_result"
    }
   ],
   "source": [
    "59.74/(2*math.pi)"
   ]
  },
  {
   "cell_type": "code",
   "execution_count": null,
   "id": "dceaaf9a",
   "metadata": {},
   "outputs": [],
   "source": []
  }
 ],
 "metadata": {
  "kernelspec": {
   "display_name": "Python 3",
   "language": "python",
   "name": "python3"
  },
  "language_info": {
   "codemirror_mode": {
    "name": "ipython",
    "version": 3
   },
   "file_extension": ".py",
   "mimetype": "text/x-python",
   "name": "python",
   "nbconvert_exporter": "python",
   "pygments_lexer": "ipython3",
   "version": "3.8.5"
  }
 },
 "nbformat": 4,
 "nbformat_minor": 5
}
