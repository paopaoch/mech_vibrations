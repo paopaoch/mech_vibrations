{
 "cells": [
  {
   "cell_type": "code",
   "execution_count": 1,
   "id": "d99001aa",
   "metadata": {},
   "outputs": [],
   "source": [
    "import numpy as np\n",
    "def sfl(t,x,omega):\n",
    "    # slow fourier lol\n",
    "    # input a list of t, a list of displacement x, and analyze it at a angular frequency omega\n",
    "    # returns the frequency and the amplitude at that frequency\n",
    "    a=0\n",
    "    b=0\n",
    "    s=0\n",
    "    c=0\n",
    "    for i in range(len(t)):\n",
    "        a+=np.sin(omega*t[i])*x[i]\n",
    "        s+=np.sin(omega*t[i])**2        \n",
    "        b+=np.cos(omega*t[i])*x[i]\n",
    "        c+=np.cos(omega*t[i])**2\n",
    "    X=((a/s)**2+(b/c)**2)**0.5\n",
    "    return (X)\n",
    "        "
   ]
  },
  {
   "cell_type": "code",
   "execution_count": 2,
   "id": "fbc3375e",
   "metadata": {},
   "outputs": [],
   "source": [
    "t=range(100000)\n",
    "x=[]\n",
    "for v in t:\n",
    "    x.append((np.sin(0.1*v+98673.23)))"
   ]
  },
  {
   "cell_type": "code",
   "execution_count": 3,
   "id": "0ca51239",
   "metadata": {},
   "outputs": [],
   "source": [
    "f=sfl(t,x,0.1)"
   ]
  },
  {
   "cell_type": "code",
   "execution_count": 4,
   "id": "9675223f",
   "metadata": {},
   "outputs": [
    {
     "name": "stdout",
     "output_type": "stream",
     "text": [
      "0.9999945001552063\n"
     ]
    }
   ],
   "source": [
    "print(f)\n"
   ]
  },
  {
   "cell_type": "code",
   "execution_count": null,
   "id": "f89bff85",
   "metadata": {},
   "outputs": [],
   "source": []
  }
 ],
 "metadata": {
  "kernelspec": {
   "display_name": "Python 3",
   "language": "python",
   "name": "python3"
  },
  "language_info": {
   "codemirror_mode": {
    "name": "ipython",
    "version": 3
   },
   "file_extension": ".py",
   "mimetype": "text/x-python",
   "name": "python",
   "nbconvert_exporter": "python",
   "pygments_lexer": "ipython3",
   "version": "3.8.5"
  }
 },
 "nbformat": 4,
 "nbformat_minor": 5
}
